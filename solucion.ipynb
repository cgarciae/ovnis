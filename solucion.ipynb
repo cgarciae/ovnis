{
 "cells": [
  {
   "cell_type": "markdown",
   "metadata": {},
   "source": [
    "# Datathon the Interbank\n",
    "Este cuaderno contiene las respuestas a las preguntas publicadas en la competencia Datathon de Interbank"
   ]
  },
  {
   "cell_type": "markdown",
   "metadata": {},
   "source": [
    "## Estadística y de Cloud"
   ]
  },
  {
   "cell_type": "markdown",
   "metadata": {},
   "source": [
    "**Preguntas**"
   ]
  },
  {
   "cell_type": "markdown",
   "metadata": {},
   "source": [
    "1. Qué emplearías para reducier la dimensionalidad de variables cualitativas?\n",
    "2. Las metodologías que se utilizan para medir la eficacia de los modelos de propensión de variable cualitativa o modelos de clasificación son diversas, mencione 2 de ellas y las características fundamentales de ellas.\n",
    "3. El modelamiento usualmente requiere alterar las muestras, esto es conocido como oversampling, luego del modelamiento, es posible corregir dichas probabilidades para volver a su distribución original? Cómo?\n",
    "4. Cuál es el valor agregado de un Modelo predictivo Bayesiano sobre un Modelo de Machine Learning?\n",
    "5. Mencione las diferencias y beneficios de trabajar con datos en la nube vs on premise."
   ]
  },
  {
   "cell_type": "markdown",
   "metadata": {},
   "source": [
    "**Respuestas**"
   ]
  },
  {
   "cell_type": "markdown",
   "metadata": {},
   "source": []
  },
  {
   "cell_type": "markdown",
   "metadata": {},
   "source": []
  },
  {
   "cell_type": "markdown",
   "metadata": {},
   "source": []
  },
  {
   "cell_type": "markdown",
   "metadata": {},
   "source": []
  },
  {
   "cell_type": "markdown",
   "metadata": {},
   "source": []
  },
  {
   "cell_type": "markdown",
   "metadata": {},
   "source": []
  },
  {
   "cell_type": "markdown",
   "metadata": {},
   "source": [
    "## Programación "
   ]
  },
  {
   "cell_type": "code",
   "execution_count": 33,
   "metadata": {},
   "outputs": [],
   "source": [
    "import numpy as np"
   ]
  },
  {
   "cell_type": "markdown",
   "metadata": {},
   "source": [
    "![](pregunta1.png)"
   ]
  },
  {
   "cell_type": "code",
   "execution_count": null,
   "metadata": {},
   "outputs": [],
   "source": []
  },
  {
   "cell_type": "markdown",
   "metadata": {},
   "source": [
    "![](pregunta2.png)"
   ]
  },
  {
   "cell_type": "code",
   "execution_count": 34,
   "metadata": {},
   "outputs": [
    {
     "data": {
      "text/plain": [
       "array([[11, 12, 13, 14],\n",
       "       [21, 22, 23, 24],\n",
       "       [31, 32, 33, 34],\n",
       "       [41, 42, 43, 44]])"
      ]
     },
     "execution_count": 34,
     "metadata": {},
     "output_type": "execute_result"
    }
   ],
   "source": [
    "source = np.array([[11,12,13,14],[21,22,23,24],[31,32,33,34],[41,42,43,44]])\n",
    "source"
   ]
  },
  {
   "cell_type": "code",
   "execution_count": 35,
   "metadata": {},
   "outputs": [],
   "source": [
    "def transpose_antidiagonal(matrix):\n",
    "    \"\"\"Transpose a matrix by the antidiagonal.\n",
    "    \n",
    "    Args:\n",
    "        matrix: a 2d numpy.ndarray\n",
    "        \n",
    "    Return:\n",
    "        The transposed matrix\n",
    "    \"\"\"\n",
    "    source = np.copy(matrix)\n",
    "    return source[::-1, ::-1].T"
   ]
  },
  {
   "cell_type": "code",
   "execution_count": 36,
   "metadata": {},
   "outputs": [
    {
     "data": {
      "text/plain": [
       "array([[44, 34, 24, 14],\n",
       "       [43, 33, 23, 13],\n",
       "       [42, 32, 22, 12],\n",
       "       [41, 31, 21, 11]])"
      ]
     },
     "execution_count": 36,
     "metadata": {},
     "output_type": "execute_result"
    }
   ],
   "source": [
    "transpose_antidiagonal(source)"
   ]
  },
  {
   "cell_type": "markdown",
   "metadata": {},
   "source": [
    "![](pregunta3.png)"
   ]
  },
  {
   "cell_type": "code",
   "execution_count": 37,
   "metadata": {},
   "outputs": [],
   "source": [
    "def get_unique_and_sort(iterable):\n",
    "    \"\"\"Get a sorted list of the unique elements of iterable\n",
    "    \n",
    "    Args:\n",
    "        iterable: a 1 dimensional array \n",
    "    \n",
    "    Returns:\n",
    "        A sorted list of the unique elements from the iterable\n",
    "    \"\"\"\n",
    "    unique = set(iterable)\n",
    "    ordered = sorted(unique)\n",
    "    return ordered"
   ]
  },
  {
   "cell_type": "code",
   "execution_count": 38,
   "metadata": {},
   "outputs": [
    {
     "data": {
      "text/plain": [
       "[1, 2, 3, 6, 8, 10]"
      ]
     },
     "execution_count": 38,
     "metadata": {},
     "output_type": "execute_result"
    }
   ],
   "source": [
    "get_unique_and_sort([10,8,1,1,3,6,2])"
   ]
  },
  {
   "cell_type": "code",
   "execution_count": null,
   "metadata": {},
   "outputs": [],
   "source": []
  }
 ],
 "metadata": {
  "kernelspec": {
   "display_name": "Python 3",
   "language": "python",
   "name": "python3"
  },
  "language_info": {
   "codemirror_mode": {
    "name": "ipython",
    "version": 3
   },
   "file_extension": ".py",
   "mimetype": "text/x-python",
   "name": "python",
   "nbconvert_exporter": "python",
   "pygments_lexer": "ipython3",
   "version": "3.6.4"
  }
 },
 "nbformat": 4,
 "nbformat_minor": 2
}
